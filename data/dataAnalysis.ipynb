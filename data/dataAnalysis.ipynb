{
 "cells": [
  {
   "cell_type": "markdown",
   "metadata": {},
   "source": [
    "<h1 style=\"text-align: center;\">\n",
    "Exploratory Data Analysis\n",
    "</h1>\n",
    "<h3 style=\"text-align: center;\">\n",
    "Get to know the data\n",
    "</h3>"
   ]
  },
  {
   "cell_type": "markdown",
   "metadata": {},
   "source": [
    "### 1. Introduction"
   ]
  },
  {
   "cell_type": "markdown",
   "metadata": {},
   "source": [
    "The data contains different characteristics of jobs from an unknown grid computing, it is provided by **The Grid Workloads Archive** and can be found [here](http://gwa.ewi.tudelft.nl/datasets/gwa-t-1-das2). The following key points are the a summary of what to expect from the data :\n",
    "<ul>\n",
    "<li>Date first entry: Tue Feb 22 16:52:25 2005</li>\n",
    "<li>CPU time consumed by jobs: 68y 230d 21h 30m 0s</li>\n",
    "<li>Number of sites in the system: 5</li>\n",
    "<li>Number of CPUs in the trace: 400</li>\n",
    "<li>Number of jobs in the trace: 1124772</li>\n",
    "<li>Number of users in the trace: 333</li>\n",
    "<li>Number of groups in the trace: 12</li>\n",
    "<ul>\n",
    "\n",
    "<p style=\"text-align : right;\">source : <a href=\"http://gwa.ewi.tudelft.nl/datasets/gwa-t-1-das2/report/\">Trace analysis report GWA-DAS2</a><p>"
   ]
  },
  {
   "cell_type": "markdown",
   "metadata": {},
   "source": [
    "### 2. Detailed description of the available Features "
   ]
  },
  {
   "cell_type": "markdown",
   "metadata": {},
   "source": [
    "<ul>\n",
    "    <li><span style=\"font-weight: bold;\">JobID</span>\t\tcounter</li>\n",
    "    <li><span style=\"font-weight: bold;\">SubmitTime</span>\t\tin seconds, starting from zero</li>\n",
    "    <li><span style=\"font-weight: bold;\">WaitTime</span>\t\tin seconds</li>\n",
    "    <li><span style=\"font-weight: bold;\">RunTime</span> \t\truntime measured in wallclock<sup>1</sup> seconds</li>\n",
    "    <li><span style=\"font-weight: bold;\">NProcs</span>\t\tnumber of allocated processors</li>\n",
    "    <li><span style=\"font-weight: bold;\">AverageCPUTimeUsed</span>\taverage of CPU time over all allocated processors</li>\n",
    "    <li><span style=\"font-weight: bold;\">Used Memory</span>\taverage per processor in kilobytes</li>\n",
    "    <li><span style=\"font-weight: bold;\">ReqNProcs</span>\t\trequested number of processors</li>\n",
    "    <li><span style=\"font-weight: bold;\">ReqTime</span>: \t\trequested time measured in wallclock seconds</li>\n",
    "    <li><span style=\"font-weight: bold;\">ReqMemory</span>\t\trequested memory (average per processor)</li>\n",
    "    <li><span style=\"font-weight: bold;\">Status</span>\t\tjob completed = 1, job failed = 0, job cancelled = 5</li>\n",
    "    <li><span style=\"font-weight: bold;\">UserID</span>\t\tstring identifier for user</li>\n",
    "    <li><span style=\"font-weight: bold;\">GroupID</span>\t\tstring identifier for group user belongs to</li>\n",
    "    <li><span style=\"font-weight: bold;\">ExecutableID</span>\tname of executable</li>\n",
    "    <li><span style=\"font-weight: bold;\">QueueID</span>\t\tstring identifier for queue</li>\n",
    "    <li><span style=\"font-weight: bold;\">PartitionID</span>\tstring identifier for partition</li>\n",
    "    <li><span style=\"font-weight: bold;\">OrigSiteID</span>\t\tstring identifier for submission site</li>\n",
    "    <li><span style=\"font-weight: bold;\">LastRunSiteID</span>\tstring identifier for execution site</li>\n",
    "    <li><span style=\"font-weight: bold;\">JobStructure</span>\tsingle job = UNITARY, composite job = BoT</li>\n",
    "    <li><span style=\"font-weight: bold;\">JobStructureParams</span> if JobStructure = BoT, contains batch identifier</li>\n",
    "    <li><span style=\"font-weight: bold;\">UsedNetwork</span>\tused network resources in kilobytes/second</li>\n",
    "    <li><span style=\"font-weight: bold;\"> UsedLocalDiskSpace</span>\tin megabytes</li>\n",
    "    <li><span style=\"font-weight: bold;\">UsedResources</span>\tlist of comma-separated generic resources (ResourceDescription:Consumption)</li>\n",
    "    <li><span style=\"font-weight: bold;\">ReqPlatform</span>\tCPUArchitecture,OS,OSVersion</li>\n",
    "    <li><span style=\"font-weight: bold;\">ReqNetwork</span>\t\tin kilobytes/second</li>\n",
    "    <li><span style=\"font-weight: bold;\">ReqLocalDiskSpace</span>\tin megabytes</li>\n",
    "    <li><span style=\"font-weight: bold;\">ReqResources</span>\tlist of comma-separated generic resources (ResourceDescription:Consumption)</li>\n",
    "    <li><span style=\"font-weight: bold;\">VOID</span>\t\tidentifier for Virtual Organization</li>\n",
    "    <li><span style=\"font-weight: bold;\">ProjectID</span>\t\tidentifier for project</li>\n",
    "</ul>\n",
    "\n",
    "<p>(1) : Wall-clock time is the time that a clock on the wall (or a stopwatch in hand) would measure as having elapsed between the start of the process and 'now'.</p>"
   ]
  },
  {
   "cell_type": "markdown",
   "metadata": {},
   "source": [
    "### 3. Data Analysis"
   ]
  },
  {
   "cell_type": "markdown",
   "metadata": {},
   "source": [
    "#### Imported Libraries"
   ]
  },
  {
   "cell_type": "code",
   "execution_count": 1,
   "metadata": {},
   "outputs": [],
   "source": [
    "import numpy as np\n",
    "import pandas as pd\n",
    "import matplotlib.pyplot as plt\n",
    "import seaborn as sns"
   ]
  },
  {
   "cell_type": "markdown",
   "metadata": {},
   "source": [
    "#### Read the data"
   ]
  },
  {
   "cell_type": "code",
   "execution_count": 2,
   "metadata": {},
   "outputs": [
    {
     "name": "stderr",
     "output_type": "stream",
     "text": [
      "C:\\Users\\nouro\\AppData\\Local\\Temp\\ipykernel_35592\\810405783.py:1: DtypeWarning: Columns (19) have mixed types. Specify dtype option on import or set low_memory=False.\n",
      "  dataset = pd.read_csv('anon_jobs.csv')\n"
     ]
    },
    {
     "data": {
      "text/html": [
       "<div>\n",
       "<style scoped>\n",
       "    .dataframe tbody tr th:only-of-type {\n",
       "        vertical-align: middle;\n",
       "    }\n",
       "\n",
       "    .dataframe tbody tr th {\n",
       "        vertical-align: top;\n",
       "    }\n",
       "\n",
       "    .dataframe thead th {\n",
       "        text-align: right;\n",
       "    }\n",
       "</style>\n",
       "<table border=\"1\" class=\"dataframe\">\n",
       "  <thead>\n",
       "    <tr style=\"text-align: right;\">\n",
       "      <th></th>\n",
       "      <th>JobID</th>\n",
       "      <th>SubmitTime</th>\n",
       "      <th>WaitTime</th>\n",
       "      <th>RunTime</th>\n",
       "      <th>NProc</th>\n",
       "      <th>UsedCPUTime</th>\n",
       "      <th>UsedMemory</th>\n",
       "      <th>ReqNProcs</th>\n",
       "      <th>ReqTime</th>\n",
       "      <th>ReqMemory</th>\n",
       "      <th>Status</th>\n",
       "      <th>UserID</th>\n",
       "      <th>GroupID</th>\n",
       "      <th>ExecutableID</th>\n",
       "      <th>QueueID</th>\n",
       "      <th>PartitionID</th>\n",
       "      <th>OrigSiteID</th>\n",
       "      <th>LastRunSiteID</th>\n",
       "      <th>JobStructure</th>\n",
       "      <th>JobStructureParams</th>\n",
       "      <th>UsedNetwork</th>\n",
       "      <th>UsedLocalDiskSpace</th>\n",
       "      <th>UsedResources</th>\n",
       "      <th>ReqPlatform</th>\n",
       "      <th>ReqNetwork</th>\n",
       "      <th>ReqLocalDiskSpace</th>\n",
       "      <th>ReqResources</th>\n",
       "      <th>VOID</th>\n",
       "      <th>ProjectID</th>\n",
       "    </tr>\n",
       "  </thead>\n",
       "  <tbody>\n",
       "    <tr>\n",
       "      <th>0</th>\n",
       "      <td>1</td>\n",
       "      <td>1109087545</td>\n",
       "      <td>9</td>\n",
       "      <td>21</td>\n",
       "      <td>1</td>\n",
       "      <td>0.05</td>\n",
       "      <td>8282.112</td>\n",
       "      <td>1</td>\n",
       "      <td>-1.0</td>\n",
       "      <td>-1.0</td>\n",
       "      <td>1</td>\n",
       "      <td>U0</td>\n",
       "      <td>G0</td>\n",
       "      <td>X0</td>\n",
       "      <td>Q0</td>\n",
       "      <td>-1</td>\n",
       "      <td>DAS2/fs0</td>\n",
       "      <td>DAS2/fs0</td>\n",
       "      <td>UNITARY</td>\n",
       "      <td>-1</td>\n",
       "      <td>-1.0</td>\n",
       "      <td>-1.0</td>\n",
       "      <td>-1</td>\n",
       "      <td>-1</td>\n",
       "      <td>-1.0</td>\n",
       "      <td>-1.0</td>\n",
       "      <td>-1</td>\n",
       "      <td>-1</td>\n",
       "      <td>-1</td>\n",
       "    </tr>\n",
       "    <tr>\n",
       "      <th>1</th>\n",
       "      <td>2</td>\n",
       "      <td>1109087546</td>\n",
       "      <td>8</td>\n",
       "      <td>21</td>\n",
       "      <td>1</td>\n",
       "      <td>0.08</td>\n",
       "      <td>10485.760</td>\n",
       "      <td>1</td>\n",
       "      <td>-1.0</td>\n",
       "      <td>-1.0</td>\n",
       "      <td>1</td>\n",
       "      <td>U0</td>\n",
       "      <td>G0</td>\n",
       "      <td>X0</td>\n",
       "      <td>Q0</td>\n",
       "      <td>-1</td>\n",
       "      <td>DAS2/fs0</td>\n",
       "      <td>DAS2/fs0</td>\n",
       "      <td>UNITARY</td>\n",
       "      <td>-1</td>\n",
       "      <td>-1.0</td>\n",
       "      <td>-1.0</td>\n",
       "      <td>-1</td>\n",
       "      <td>-1</td>\n",
       "      <td>-1.0</td>\n",
       "      <td>-1.0</td>\n",
       "      <td>-1</td>\n",
       "      <td>-1</td>\n",
       "      <td>-1</td>\n",
       "    </tr>\n",
       "    <tr>\n",
       "      <th>2</th>\n",
       "      <td>3</td>\n",
       "      <td>1109087609</td>\n",
       "      <td>5</td>\n",
       "      <td>1</td>\n",
       "      <td>1</td>\n",
       "      <td>0.00</td>\n",
       "      <td>2584.576</td>\n",
       "      <td>1</td>\n",
       "      <td>-1.0</td>\n",
       "      <td>-1.0</td>\n",
       "      <td>1</td>\n",
       "      <td>U0</td>\n",
       "      <td>G0</td>\n",
       "      <td>X1</td>\n",
       "      <td>Q0</td>\n",
       "      <td>-1</td>\n",
       "      <td>DAS2/fs0</td>\n",
       "      <td>DAS2/fs0</td>\n",
       "      <td>UNITARY</td>\n",
       "      <td>-1</td>\n",
       "      <td>-1.0</td>\n",
       "      <td>-1.0</td>\n",
       "      <td>-1</td>\n",
       "      <td>-1</td>\n",
       "      <td>-1.0</td>\n",
       "      <td>-1.0</td>\n",
       "      <td>-1</td>\n",
       "      <td>-1</td>\n",
       "      <td>-1</td>\n",
       "    </tr>\n",
       "    <tr>\n",
       "      <th>3</th>\n",
       "      <td>4</td>\n",
       "      <td>1109091229</td>\n",
       "      <td>15</td>\n",
       "      <td>0</td>\n",
       "      <td>1</td>\n",
       "      <td>0.00</td>\n",
       "      <td>0.000</td>\n",
       "      <td>1</td>\n",
       "      <td>-1.0</td>\n",
       "      <td>-1.0</td>\n",
       "      <td>1</td>\n",
       "      <td>U0</td>\n",
       "      <td>G0</td>\n",
       "      <td>X1</td>\n",
       "      <td>Q0</td>\n",
       "      <td>-1</td>\n",
       "      <td>DAS2/fs0</td>\n",
       "      <td>DAS2/fs0</td>\n",
       "      <td>UNITARY</td>\n",
       "      <td>-1</td>\n",
       "      <td>-1.0</td>\n",
       "      <td>-1.0</td>\n",
       "      <td>-1</td>\n",
       "      <td>-1</td>\n",
       "      <td>-1.0</td>\n",
       "      <td>-1.0</td>\n",
       "      <td>-1</td>\n",
       "      <td>-1</td>\n",
       "      <td>-1</td>\n",
       "    </tr>\n",
       "    <tr>\n",
       "      <th>4</th>\n",
       "      <td>5</td>\n",
       "      <td>1109091214</td>\n",
       "      <td>65162</td>\n",
       "      <td>1</td>\n",
       "      <td>1</td>\n",
       "      <td>0.00</td>\n",
       "      <td>0.000</td>\n",
       "      <td>1</td>\n",
       "      <td>-1.0</td>\n",
       "      <td>-1.0</td>\n",
       "      <td>1</td>\n",
       "      <td>U0</td>\n",
       "      <td>G0</td>\n",
       "      <td>X1</td>\n",
       "      <td>Q0</td>\n",
       "      <td>-1</td>\n",
       "      <td>DAS2/fs0</td>\n",
       "      <td>DAS2/fs0</td>\n",
       "      <td>UNITARY</td>\n",
       "      <td>-1</td>\n",
       "      <td>-1.0</td>\n",
       "      <td>-1.0</td>\n",
       "      <td>-1</td>\n",
       "      <td>-1</td>\n",
       "      <td>-1.0</td>\n",
       "      <td>-1.0</td>\n",
       "      <td>-1</td>\n",
       "      <td>-1</td>\n",
       "      <td>-1</td>\n",
       "    </tr>\n",
       "    <tr>\n",
       "      <th>5</th>\n",
       "      <td>6</td>\n",
       "      <td>1109092121</td>\n",
       "      <td>64255</td>\n",
       "      <td>1</td>\n",
       "      <td>1</td>\n",
       "      <td>0.00</td>\n",
       "      <td>0.000</td>\n",
       "      <td>1</td>\n",
       "      <td>-1.0</td>\n",
       "      <td>-1.0</td>\n",
       "      <td>1</td>\n",
       "      <td>U0</td>\n",
       "      <td>G0</td>\n",
       "      <td>X1</td>\n",
       "      <td>Q0</td>\n",
       "      <td>-1</td>\n",
       "      <td>DAS2/fs0</td>\n",
       "      <td>DAS2/fs0</td>\n",
       "      <td>UNITARY</td>\n",
       "      <td>-1</td>\n",
       "      <td>-1.0</td>\n",
       "      <td>-1.0</td>\n",
       "      <td>-1</td>\n",
       "      <td>-1</td>\n",
       "      <td>-1.0</td>\n",
       "      <td>-1.0</td>\n",
       "      <td>-1</td>\n",
       "      <td>-1</td>\n",
       "      <td>-1</td>\n",
       "    </tr>\n",
       "    <tr>\n",
       "      <th>6</th>\n",
       "      <td>7</td>\n",
       "      <td>1109090970</td>\n",
       "      <td>65438</td>\n",
       "      <td>0</td>\n",
       "      <td>2</td>\n",
       "      <td>0.00</td>\n",
       "      <td>0.000</td>\n",
       "      <td>2</td>\n",
       "      <td>-1.0</td>\n",
       "      <td>-1.0</td>\n",
       "      <td>1</td>\n",
       "      <td>U0</td>\n",
       "      <td>G0</td>\n",
       "      <td>X1</td>\n",
       "      <td>Q0</td>\n",
       "      <td>-1</td>\n",
       "      <td>DAS2/fs0</td>\n",
       "      <td>DAS2/fs0</td>\n",
       "      <td>UNITARY</td>\n",
       "      <td>-1</td>\n",
       "      <td>-1.0</td>\n",
       "      <td>-1.0</td>\n",
       "      <td>-1</td>\n",
       "      <td>-1</td>\n",
       "      <td>-1.0</td>\n",
       "      <td>-1.0</td>\n",
       "      <td>-1</td>\n",
       "      <td>-1</td>\n",
       "      <td>-1</td>\n",
       "    </tr>\n",
       "    <tr>\n",
       "      <th>7</th>\n",
       "      <td>8</td>\n",
       "      <td>1109161778</td>\n",
       "      <td>14</td>\n",
       "      <td>3</td>\n",
       "      <td>1</td>\n",
       "      <td>0.08</td>\n",
       "      <td>11358.208</td>\n",
       "      <td>1</td>\n",
       "      <td>-1.0</td>\n",
       "      <td>-1.0</td>\n",
       "      <td>1</td>\n",
       "      <td>U0</td>\n",
       "      <td>G0</td>\n",
       "      <td>X2</td>\n",
       "      <td>Q0</td>\n",
       "      <td>-1</td>\n",
       "      <td>DAS2/fs0</td>\n",
       "      <td>DAS2/fs0</td>\n",
       "      <td>UNITARY</td>\n",
       "      <td>-1</td>\n",
       "      <td>-1.0</td>\n",
       "      <td>-1.0</td>\n",
       "      <td>-1</td>\n",
       "      <td>-1</td>\n",
       "      <td>-1.0</td>\n",
       "      <td>-1.0</td>\n",
       "      <td>-1</td>\n",
       "      <td>-1</td>\n",
       "      <td>-1</td>\n",
       "    </tr>\n",
       "    <tr>\n",
       "      <th>8</th>\n",
       "      <td>9</td>\n",
       "      <td>1109162032</td>\n",
       "      <td>14</td>\n",
       "      <td>0</td>\n",
       "      <td>1</td>\n",
       "      <td>0.00</td>\n",
       "      <td>0.000</td>\n",
       "      <td>1</td>\n",
       "      <td>-1.0</td>\n",
       "      <td>-1.0</td>\n",
       "      <td>1</td>\n",
       "      <td>U0</td>\n",
       "      <td>G0</td>\n",
       "      <td>X2</td>\n",
       "      <td>Q0</td>\n",
       "      <td>-1</td>\n",
       "      <td>DAS2/fs0</td>\n",
       "      <td>DAS2/fs0</td>\n",
       "      <td>UNITARY</td>\n",
       "      <td>-1</td>\n",
       "      <td>-1.0</td>\n",
       "      <td>-1.0</td>\n",
       "      <td>-1</td>\n",
       "      <td>-1</td>\n",
       "      <td>-1.0</td>\n",
       "      <td>-1.0</td>\n",
       "      <td>-1</td>\n",
       "      <td>-1</td>\n",
       "      <td>-1</td>\n",
       "    </tr>\n",
       "    <tr>\n",
       "      <th>9</th>\n",
       "      <td>10</td>\n",
       "      <td>1109162805</td>\n",
       "      <td>6</td>\n",
       "      <td>0</td>\n",
       "      <td>1</td>\n",
       "      <td>0.00</td>\n",
       "      <td>0.000</td>\n",
       "      <td>1</td>\n",
       "      <td>-1.0</td>\n",
       "      <td>-1.0</td>\n",
       "      <td>1</td>\n",
       "      <td>U0</td>\n",
       "      <td>G0</td>\n",
       "      <td>X3</td>\n",
       "      <td>Q0</td>\n",
       "      <td>-1</td>\n",
       "      <td>DAS2/fs0</td>\n",
       "      <td>DAS2/fs0</td>\n",
       "      <td>UNITARY</td>\n",
       "      <td>-1</td>\n",
       "      <td>-1.0</td>\n",
       "      <td>-1.0</td>\n",
       "      <td>-1</td>\n",
       "      <td>-1</td>\n",
       "      <td>-1.0</td>\n",
       "      <td>-1.0</td>\n",
       "      <td>-1</td>\n",
       "      <td>-1</td>\n",
       "      <td>-1</td>\n",
       "    </tr>\n",
       "  </tbody>\n",
       "</table>\n",
       "</div>"
      ],
      "text/plain": [
       "   JobID  SubmitTime  WaitTime  RunTime  NProc  UsedCPUTime  UsedMemory  \\\n",
       "0      1  1109087545         9       21      1         0.05    8282.112   \n",
       "1      2  1109087546         8       21      1         0.08   10485.760   \n",
       "2      3  1109087609         5        1      1         0.00    2584.576   \n",
       "3      4  1109091229        15        0      1         0.00       0.000   \n",
       "4      5  1109091214     65162        1      1         0.00       0.000   \n",
       "5      6  1109092121     64255        1      1         0.00       0.000   \n",
       "6      7  1109090970     65438        0      2         0.00       0.000   \n",
       "7      8  1109161778        14        3      1         0.08   11358.208   \n",
       "8      9  1109162032        14        0      1         0.00       0.000   \n",
       "9     10  1109162805         6        0      1         0.00       0.000   \n",
       "\n",
       "   ReqNProcs  ReqTime  ReqMemory  Status UserID GroupID ExecutableID QueueID  \\\n",
       "0          1     -1.0       -1.0       1     U0      G0           X0      Q0   \n",
       "1          1     -1.0       -1.0       1     U0      G0           X0      Q0   \n",
       "2          1     -1.0       -1.0       1     U0      G0           X1      Q0   \n",
       "3          1     -1.0       -1.0       1     U0      G0           X1      Q0   \n",
       "4          1     -1.0       -1.0       1     U0      G0           X1      Q0   \n",
       "5          1     -1.0       -1.0       1     U0      G0           X1      Q0   \n",
       "6          2     -1.0       -1.0       1     U0      G0           X1      Q0   \n",
       "7          1     -1.0       -1.0       1     U0      G0           X2      Q0   \n",
       "8          1     -1.0       -1.0       1     U0      G0           X2      Q0   \n",
       "9          1     -1.0       -1.0       1     U0      G0           X3      Q0   \n",
       "\n",
       "   PartitionID OrigSiteID LastRunSiteID JobStructure JobStructureParams  \\\n",
       "0           -1   DAS2/fs0      DAS2/fs0      UNITARY                 -1   \n",
       "1           -1   DAS2/fs0      DAS2/fs0      UNITARY                 -1   \n",
       "2           -1   DAS2/fs0      DAS2/fs0      UNITARY                 -1   \n",
       "3           -1   DAS2/fs0      DAS2/fs0      UNITARY                 -1   \n",
       "4           -1   DAS2/fs0      DAS2/fs0      UNITARY                 -1   \n",
       "5           -1   DAS2/fs0      DAS2/fs0      UNITARY                 -1   \n",
       "6           -1   DAS2/fs0      DAS2/fs0      UNITARY                 -1   \n",
       "7           -1   DAS2/fs0      DAS2/fs0      UNITARY                 -1   \n",
       "8           -1   DAS2/fs0      DAS2/fs0      UNITARY                 -1   \n",
       "9           -1   DAS2/fs0      DAS2/fs0      UNITARY                 -1   \n",
       "\n",
       "   UsedNetwork  UsedLocalDiskSpace  UsedResources  ReqPlatform  ReqNetwork  \\\n",
       "0         -1.0                -1.0             -1           -1        -1.0   \n",
       "1         -1.0                -1.0             -1           -1        -1.0   \n",
       "2         -1.0                -1.0             -1           -1        -1.0   \n",
       "3         -1.0                -1.0             -1           -1        -1.0   \n",
       "4         -1.0                -1.0             -1           -1        -1.0   \n",
       "5         -1.0                -1.0             -1           -1        -1.0   \n",
       "6         -1.0                -1.0             -1           -1        -1.0   \n",
       "7         -1.0                -1.0             -1           -1        -1.0   \n",
       "8         -1.0                -1.0             -1           -1        -1.0   \n",
       "9         -1.0                -1.0             -1           -1        -1.0   \n",
       "\n",
       "   ReqLocalDiskSpace  ReqResources  VOID  ProjectID  \n",
       "0               -1.0            -1    -1         -1  \n",
       "1               -1.0            -1    -1         -1  \n",
       "2               -1.0            -1    -1         -1  \n",
       "3               -1.0            -1    -1         -1  \n",
       "4               -1.0            -1    -1         -1  \n",
       "5               -1.0            -1    -1         -1  \n",
       "6               -1.0            -1    -1         -1  \n",
       "7               -1.0            -1    -1         -1  \n",
       "8               -1.0            -1    -1         -1  \n",
       "9               -1.0            -1    -1         -1  "
      ]
     },
     "execution_count": 2,
     "metadata": {},
     "output_type": "execute_result"
    }
   ],
   "source": [
    "dataset = pd.read_csv('anon_jobs.csv')\n",
    "\n",
    "# set pandas to show all columns\n",
    "pd.set_option('display.max_columns', None)\n",
    "\n",
    "# print the first 5 rows of the dataset\n",
    "dataset.head(10)"
   ]
  },
  {
   "cell_type": "code",
   "execution_count": 3,
   "metadata": {},
   "outputs": [
    {
     "name": "stdout",
     "output_type": "stream",
     "text": [
      "Number of rows : 1124772\n"
     ]
    }
   ],
   "source": [
    "print(f\"Number of rows : {dataset.shape[0]}\")"
   ]
  },
  {
   "cell_type": "markdown",
   "metadata": {},
   "source": [
    "#### Check the columns with missing values"
   ]
  },
  {
   "cell_type": "code",
   "execution_count": 4,
   "metadata": {},
   "outputs": [
    {
     "name": "stdout",
     "output_type": "stream",
     "text": [
      "ReqMemory\n",
      "[-1.]\n",
      "PartitionID\n",
      "[-1]\n",
      "UsedNetwork\n",
      "[-1.]\n",
      "UsedLocalDiskSpace\n",
      "[-1.]\n",
      "UsedResources\n",
      "[-1]\n",
      "ReqPlatform\n",
      "[-1]\n",
      "ReqNetwork\n",
      "[-1.]\n",
      "ReqLocalDiskSpace\n",
      "[-1.]\n",
      "ReqResources\n",
      "[-1]\n",
      "VOID\n",
      "[-1]\n",
      "ProjectID\n",
      "[-1]\n"
     ]
    }
   ],
   "source": [
    "# print column names which have one unique value to check if it is -1 for all rows (unavailable information)\n",
    "for i in dataset.columns:\n",
    "    unique_values = dataset[i].unique()\n",
    "    if len(unique_values) == 1:\n",
    "        print(i)\n",
    "        print(unique_values)"
   ]
  },
  {
   "cell_type": "markdown",
   "metadata": {},
   "source": [
    "The following columns have missing values : ReqMemory, PartitionID, UsedNetwork, UsedLocalDiskSpace, UsedResources, ReqPlatform, ReqNetwork, ReqLocalDiskSpace, ReqResources, VOID, ProjectID. We can delete these columns since they are not relevant for our analysis."
   ]
  },
  {
   "cell_type": "code",
   "execution_count": 5,
   "metadata": {},
   "outputs": [],
   "source": [
    "dataset = dataset.drop(columns=['ReqMemory', \"PartitionID\", 'UsedNetwork', \"ReqPlatform\", 'ReqNetwork', 'UsedLocalDiskSpace', 'ReqLocalDiskSpace', 'UsedResources', 'ReqResources', \"VOID\", \"ProjectID\"])"
   ]
  },
  {
   "cell_type": "markdown",
   "metadata": {},
   "source": [
    "#### General overview about the dataset"
   ]
  },
  {
   "cell_type": "code",
   "execution_count": 6,
   "metadata": {},
   "outputs": [
    {
     "name": "stdout",
     "output_type": "stream",
     "text": [
      "<class 'pandas.core.frame.DataFrame'>\n",
      "RangeIndex: 1124772 entries, 0 to 1124771\n",
      "Data columns (total 18 columns):\n",
      " #   Column              Non-Null Count    Dtype  \n",
      "---  ------              --------------    -----  \n",
      " 0   JobID               1124772 non-null  int64  \n",
      " 1   SubmitTime          1124772 non-null  int64  \n",
      " 2   WaitTime            1124772 non-null  int64  \n",
      " 3   RunTime             1124772 non-null  int64  \n",
      " 4   NProc               1124772 non-null  int64  \n",
      " 5   UsedCPUTime         1124772 non-null  float64\n",
      " 6   UsedMemory          1124772 non-null  float64\n",
      " 7   ReqNProcs           1124772 non-null  int64  \n",
      " 8   ReqTime             1124772 non-null  float64\n",
      " 9   Status              1124772 non-null  int64  \n",
      " 10  UserID              1124772 non-null  object \n",
      " 11  GroupID             1124772 non-null  object \n",
      " 12  ExecutableID        1124772 non-null  object \n",
      " 13  QueueID             1124772 non-null  object \n",
      " 14  OrigSiteID          1124772 non-null  object \n",
      " 15  LastRunSiteID       1124772 non-null  object \n",
      " 16  JobStructure        1124772 non-null  object \n",
      " 17  JobStructureParams  1124772 non-null  object \n",
      "dtypes: float64(3), int64(7), object(8)\n",
      "memory usage: 154.5+ MB\n"
     ]
    }
   ],
   "source": [
    "dataset.info()"
   ]
  },
  {
   "cell_type": "code",
   "execution_count": 7,
   "metadata": {},
   "outputs": [
    {
     "data": {
      "text/html": [
       "<div>\n",
       "<style scoped>\n",
       "    .dataframe tbody tr th:only-of-type {\n",
       "        vertical-align: middle;\n",
       "    }\n",
       "\n",
       "    .dataframe tbody tr th {\n",
       "        vertical-align: top;\n",
       "    }\n",
       "\n",
       "    .dataframe thead th {\n",
       "        text-align: right;\n",
       "    }\n",
       "</style>\n",
       "<table border=\"1\" class=\"dataframe\">\n",
       "  <thead>\n",
       "    <tr style=\"text-align: right;\">\n",
       "      <th></th>\n",
       "      <th>JobID</th>\n",
       "      <th>SubmitTime</th>\n",
       "      <th>WaitTime</th>\n",
       "      <th>RunTime</th>\n",
       "      <th>NProc</th>\n",
       "      <th>UsedCPUTime</th>\n",
       "      <th>UsedMemory</th>\n",
       "      <th>ReqNProcs</th>\n",
       "      <th>ReqTime</th>\n",
       "      <th>Status</th>\n",
       "    </tr>\n",
       "  </thead>\n",
       "  <tbody>\n",
       "    <tr>\n",
       "      <th>count</th>\n",
       "      <td>1.124772e+06</td>\n",
       "      <td>1.124772e+06</td>\n",
       "      <td>1.124772e+06</td>\n",
       "      <td>1.124772e+06</td>\n",
       "      <td>1.124772e+06</td>\n",
       "      <td>1.124772e+06</td>\n",
       "      <td>1.124772e+06</td>\n",
       "      <td>1.124772e+06</td>\n",
       "      <td>1.124772e+06</td>\n",
       "      <td>1.124772e+06</td>\n",
       "    </tr>\n",
       "    <tr>\n",
       "      <th>mean</th>\n",
       "      <td>5.623865e+05</td>\n",
       "      <td>1.141096e+09</td>\n",
       "      <td>4.317657e+02</td>\n",
       "      <td>3.697174e+02</td>\n",
       "      <td>4.306248e+00</td>\n",
       "      <td>3.405256e+01</td>\n",
       "      <td>4.589586e+04</td>\n",
       "      <td>4.306248e+00</td>\n",
       "      <td>4.655147e+03</td>\n",
       "      <td>9.989669e-01</td>\n",
       "    </tr>\n",
       "    <tr>\n",
       "      <th>std</th>\n",
       "      <td>3.246939e+05</td>\n",
       "      <td>1.401233e+07</td>\n",
       "      <td>3.595336e+03</td>\n",
       "      <td>3.938101e+03</td>\n",
       "      <td>6.361762e+00</td>\n",
       "      <td>3.083070e+02</td>\n",
       "      <td>3.464246e+05</td>\n",
       "      <td>6.361762e+00</td>\n",
       "      <td>2.838875e+05</td>\n",
       "      <td>3.212525e-02</td>\n",
       "    </tr>\n",
       "    <tr>\n",
       "      <th>min</th>\n",
       "      <td>1.000000e+00</td>\n",
       "      <td>1.109088e+09</td>\n",
       "      <td>0.000000e+00</td>\n",
       "      <td>0.000000e+00</td>\n",
       "      <td>1.000000e+00</td>\n",
       "      <td>0.000000e+00</td>\n",
       "      <td>0.000000e+00</td>\n",
       "      <td>1.000000e+00</td>\n",
       "      <td>-1.000000e+00</td>\n",
       "      <td>0.000000e+00</td>\n",
       "    </tr>\n",
       "    <tr>\n",
       "      <th>25%</th>\n",
       "      <td>2.811938e+05</td>\n",
       "      <td>1.130606e+09</td>\n",
       "      <td>4.000000e+00</td>\n",
       "      <td>1.500000e+01</td>\n",
       "      <td>1.000000e+00</td>\n",
       "      <td>1.000000e-02</td>\n",
       "      <td>4.276224e+03</td>\n",
       "      <td>1.000000e+00</td>\n",
       "      <td>9.000000e+02</td>\n",
       "      <td>1.000000e+00</td>\n",
       "    </tr>\n",
       "    <tr>\n",
       "      <th>50%</th>\n",
       "      <td>5.623865e+05</td>\n",
       "      <td>1.140470e+09</td>\n",
       "      <td>6.000000e+00</td>\n",
       "      <td>4.700000e+01</td>\n",
       "      <td>2.000000e+00</td>\n",
       "      <td>3.000000e-02</td>\n",
       "      <td>6.348800e+03</td>\n",
       "      <td>2.000000e+00</td>\n",
       "      <td>9.000000e+02</td>\n",
       "      <td>1.000000e+00</td>\n",
       "    </tr>\n",
       "    <tr>\n",
       "      <th>75%</th>\n",
       "      <td>8.435792e+05</td>\n",
       "      <td>1.149950e+09</td>\n",
       "      <td>1.400000e+01</td>\n",
       "      <td>1.460000e+02</td>\n",
       "      <td>4.000000e+00</td>\n",
       "      <td>8.000000e-02</td>\n",
       "      <td>1.044480e+04</td>\n",
       "      <td>4.000000e+00</td>\n",
       "      <td>9.600000e+02</td>\n",
       "      <td>1.000000e+00</td>\n",
       "    </tr>\n",
       "    <tr>\n",
       "      <th>max</th>\n",
       "      <td>1.124772e+06</td>\n",
       "      <td>1.166002e+09</td>\n",
       "      <td>1.302269e+06</td>\n",
       "      <td>5.483630e+05</td>\n",
       "      <td>1.280000e+02</td>\n",
       "      <td>5.107015e+04</td>\n",
       "      <td>4.294951e+06</td>\n",
       "      <td>1.280000e+02</td>\n",
       "      <td>6.000000e+07</td>\n",
       "      <td>1.000000e+00</td>\n",
       "    </tr>\n",
       "  </tbody>\n",
       "</table>\n",
       "</div>"
      ],
      "text/plain": [
       "              JobID    SubmitTime      WaitTime       RunTime         NProc  \\\n",
       "count  1.124772e+06  1.124772e+06  1.124772e+06  1.124772e+06  1.124772e+06   \n",
       "mean   5.623865e+05  1.141096e+09  4.317657e+02  3.697174e+02  4.306248e+00   \n",
       "std    3.246939e+05  1.401233e+07  3.595336e+03  3.938101e+03  6.361762e+00   \n",
       "min    1.000000e+00  1.109088e+09  0.000000e+00  0.000000e+00  1.000000e+00   \n",
       "25%    2.811938e+05  1.130606e+09  4.000000e+00  1.500000e+01  1.000000e+00   \n",
       "50%    5.623865e+05  1.140470e+09  6.000000e+00  4.700000e+01  2.000000e+00   \n",
       "75%    8.435792e+05  1.149950e+09  1.400000e+01  1.460000e+02  4.000000e+00   \n",
       "max    1.124772e+06  1.166002e+09  1.302269e+06  5.483630e+05  1.280000e+02   \n",
       "\n",
       "        UsedCPUTime    UsedMemory     ReqNProcs       ReqTime        Status  \n",
       "count  1.124772e+06  1.124772e+06  1.124772e+06  1.124772e+06  1.124772e+06  \n",
       "mean   3.405256e+01  4.589586e+04  4.306248e+00  4.655147e+03  9.989669e-01  \n",
       "std    3.083070e+02  3.464246e+05  6.361762e+00  2.838875e+05  3.212525e-02  \n",
       "min    0.000000e+00  0.000000e+00  1.000000e+00 -1.000000e+00  0.000000e+00  \n",
       "25%    1.000000e-02  4.276224e+03  1.000000e+00  9.000000e+02  1.000000e+00  \n",
       "50%    3.000000e-02  6.348800e+03  2.000000e+00  9.000000e+02  1.000000e+00  \n",
       "75%    8.000000e-02  1.044480e+04  4.000000e+00  9.600000e+02  1.000000e+00  \n",
       "max    5.107015e+04  4.294951e+06  1.280000e+02  6.000000e+07  1.000000e+00  "
      ]
     },
     "execution_count": 7,
     "metadata": {},
     "output_type": "execute_result"
    }
   ],
   "source": [
    "dataset.describe()"
   ]
  },
  {
   "cell_type": "markdown",
   "metadata": {},
   "source": [
    "We are not going to use all of the features, to choose what features to use we first make some analysis to support the assumptions we may have, before choosing the task we will achieve with the data. Afterwards, we can use PCA or other dimensionality reduction techniques to reduce the number of features related to our task."
   ]
  },
  {
   "cell_type": "markdown",
   "metadata": {},
   "source": [
    "#### Used vs Requested Resources"
   ]
  },
  {
   "cell_type": "markdown",
   "metadata": {},
   "source": [
    "In this section, we will compare the used and requested ressources. The features that may be interesting for the following comparison are :\n",
    "<ul>\n",
    "  <li>RunTime <strong>Vs.</strong> ReqTime : compare the expected time and the time the job really took.</li>\n",
    "  <li>NProcs <strong>Vs.</strong> ReqNProcs : compare the expected number of processors and the processors the job really took.</li>\n",
    "  <li>UsedMemory <strong>Vs.</strong> ReqMemory : compare the expected memory and the memory the job really took. However, all requested memory are equal to -1, which means that the infromation is not available.</li>\n",
    "</ul>"
   ]
  },
  {
   "cell_type": "code",
   "execution_count": 8,
   "metadata": {},
   "outputs": [
    {
     "name": "stdout",
     "output_type": "stream",
     "text": [
      "Comparing number of used and requested processes\n",
      "Comparing used and requested run time\n"
     ]
    },
    {
     "data": {
      "image/png": "[encoded data removed]",
      "text/plain": [
       "<Figure size 1500x500 with 2 Axes>"
      ]
     },
     "metadata": {},
     "output_type": "display_data"
    }
   ],
   "source": [
    "# Categories\n",
    "categories = [\"Used\", \"Requested\", \"Wasted_resources\"]\n",
    "\n",
    "# Initialize Figure\n",
    "fig, axs = plt.subplots(1, 2, figsize=(15, 5))\n",
    "fig.suptitle('Comparison of used and requested resources')\n",
    "\n",
    "# Number of processes\n",
    "print(\"Comparing number of used and requested processes\")\n",
    "nprocs_u = dataset[\"NProc\"].mean()\n",
    "nprocs_r = dataset[\"ReqNProcs\"].mean()\n",
    "values_Nprocs = [nprocs_u, nprocs_r, nprocs_u - nprocs_r]\n",
    "axs[0].set_title(\"The average of the number of processes\")\n",
    "axs[0].bar(categories, values_Nprocs, width=0.3, color='aquamarine')\n",
    "\n",
    "# Run time\n",
    "print(\"Comparing used and requested run time\")\n",
    "runtime_u = dataset[\"RunTime\"].mean()\n",
    "runtime_r = dataset[\"ReqTime\"].mean()\n",
    "values_runtime = [runtime_u, runtime_r, runtime_u - runtime_r]\n",
    "axs[1].set_title(\"The average runtime\")\n",
    "axs[1].bar(categories, values_runtime, width=0.3, color='red')\n",
    "plt.show()\n"
   ]
  },
  {
   "cell_type": "markdown",
   "metadata": {},
   "source": [
    "<strong>Conclusion : </strong> We can omit several features that represent missing values. Which are :  ReqMemory, UsedNetwork, ReqNetwork, UsedLocalDiskSpace, ReqLocalDiskSpace, UsedResources, ReqResources. In addition to that, we can see that the requested time is much more high than the actual time. Which means that we can try to understand the reason behind that."
   ]
  },
  {
   "cell_type": "code",
   "execution_count": 9,
   "metadata": {},
   "outputs": [
    {
     "ename": "KeyError",
     "evalue": "\"['ReqMemory', 'UsedNetwork', 'ReqNetwork', 'UsedLocalDiskSpace', 'ReqLocalDiskSpace', 'UsedResources', 'ReqResources'] not found in axis\"",
     "output_type": "error",
     "traceback": [
      "\u001b[1;31m---------------------------------------------------------------------------\u001b[0m",
      "\u001b[1;31mKeyError\u001b[0m                                  Traceback (most recent call last)",
      "\u001b[1;32mc:\\Users\\nouro\\Desktop\\Workload-prediction\\data\\dataAnalysis.ipynb Cell 24\u001b[0m line \u001b[0;36m2\n\u001b[0;32m      <a href='vscode-notebook-cell:/c%3A/Users/nouro/Desktop/Workload-prediction/data/dataAnalysis.ipynb#X25sZmlsZQ%3D%3D?line=0'>1</a>\u001b[0m \u001b[39m# delete the columns that are not needed : ReqMemory, UsedNetwork, ReqNetwork, UsedLocalDiskSpace, ReqLocalDiskSpace, UsedResources, ReqResources\u001b[39;00m\n\u001b[1;32m----> <a href='vscode-notebook-cell:/c%3A/Users/nouro/Desktop/Workload-prediction/data/dataAnalysis.ipynb#X25sZmlsZQ%3D%3D?line=1'>2</a>\u001b[0m dataset \u001b[39m=\u001b[39m dataset\u001b[39m.\u001b[39;49mdrop(columns\u001b[39m=\u001b[39;49m[\u001b[39m'\u001b[39;49m\u001b[39mReqMemory\u001b[39;49m\u001b[39m'\u001b[39;49m, \u001b[39m'\u001b[39;49m\u001b[39mUsedNetwork\u001b[39;49m\u001b[39m'\u001b[39;49m, \u001b[39m'\u001b[39;49m\u001b[39mReqNetwork\u001b[39;49m\u001b[39m'\u001b[39;49m, \u001b[39m'\u001b[39;49m\u001b[39mUsedLocalDiskSpace\u001b[39;49m\u001b[39m'\u001b[39;49m, \u001b[39m'\u001b[39;49m\u001b[39mReqLocalDiskSpace\u001b[39;49m\u001b[39m'\u001b[39;49m, \u001b[39m'\u001b[39;49m\u001b[39mUsedResources\u001b[39;49m\u001b[39m'\u001b[39;49m, \u001b[39m'\u001b[39;49m\u001b[39mReqResources\u001b[39;49m\u001b[39m'\u001b[39;49m])\n",
      "File \u001b[1;32mc:\\Users\\nouro\\AppData\\Local\\Programs\\Python\\Python39\\lib\\site-packages\\pandas\\core\\frame.py:5344\u001b[0m, in \u001b[0;36mDataFrame.drop\u001b[1;34m(self, labels, axis, index, columns, level, inplace, errors)\u001b[0m\n\u001b[0;32m   5196\u001b[0m \u001b[39mdef\u001b[39;00m \u001b[39mdrop\u001b[39m(\n\u001b[0;32m   5197\u001b[0m     \u001b[39mself\u001b[39m,\n\u001b[0;32m   5198\u001b[0m     labels: IndexLabel \u001b[39m|\u001b[39m \u001b[39mNone\u001b[39;00m \u001b[39m=\u001b[39m \u001b[39mNone\u001b[39;00m,\n\u001b[1;32m   (...)\u001b[0m\n\u001b[0;32m   5205\u001b[0m     errors: IgnoreRaise \u001b[39m=\u001b[39m \u001b[39m\"\u001b[39m\u001b[39mraise\u001b[39m\u001b[39m\"\u001b[39m,\n\u001b[0;32m   5206\u001b[0m ) \u001b[39m-\u001b[39m\u001b[39m>\u001b[39m DataFrame \u001b[39m|\u001b[39m \u001b[39mNone\u001b[39;00m:\n\u001b[0;32m   5207\u001b[0m \u001b[39m    \u001b[39m\u001b[39m\"\"\"\u001b[39;00m\n\u001b[0;32m   5208\u001b[0m \u001b[39m    Drop specified labels from rows or columns.\u001b[39;00m\n\u001b[0;32m   5209\u001b[0m \n\u001b[1;32m   (...)\u001b[0m\n\u001b[0;32m   5342\u001b[0m \u001b[39m            weight  1.0     0.8\u001b[39;00m\n\u001b[0;32m   5343\u001b[0m \u001b[39m    \"\"\"\u001b[39;00m\n\u001b[1;32m-> 5344\u001b[0m     \u001b[39mreturn\u001b[39;00m \u001b[39msuper\u001b[39;49m()\u001b[39m.\u001b[39;49mdrop(\n\u001b[0;32m   5345\u001b[0m         labels\u001b[39m=\u001b[39;49mlabels,\n\u001b[0;32m   5346\u001b[0m         axis\u001b[39m=\u001b[39;49maxis,\n\u001b[0;32m   5347\u001b[0m         index\u001b[39m=\u001b[39;49mindex,\n\u001b[0;32m   5348\u001b[0m         columns\u001b[39m=\u001b[39;49mcolumns,\n\u001b[0;32m   5349\u001b[0m         level\u001b[39m=\u001b[39;49mlevel,\n\u001b[0;32m   5350\u001b[0m         inplace\u001b[39m=\u001b[39;49minplace,\n\u001b[0;32m   5351\u001b[0m         errors\u001b[39m=\u001b[39;49merrors,\n\u001b[0;32m   5352\u001b[0m     )\n",
      "File \u001b[1;32mc:\\Users\\nouro\\AppData\\Local\\Programs\\Python\\Python39\\lib\\site-packages\\pandas\\core\\generic.py:4711\u001b[0m, in \u001b[0;36mNDFrame.drop\u001b[1;34m(self, labels, axis, index, columns, level, inplace, errors)\u001b[0m\n\u001b[0;32m   4709\u001b[0m \u001b[39mfor\u001b[39;00m axis, labels \u001b[39min\u001b[39;00m axes\u001b[39m.\u001b[39mitems():\n\u001b[0;32m   4710\u001b[0m     \u001b[39mif\u001b[39;00m labels \u001b[39mis\u001b[39;00m \u001b[39mnot\u001b[39;00m \u001b[39mNone\u001b[39;00m:\n\u001b[1;32m-> 4711\u001b[0m         obj \u001b[39m=\u001b[39m obj\u001b[39m.\u001b[39;49m_drop_axis(labels, axis, level\u001b[39m=\u001b[39;49mlevel, errors\u001b[39m=\u001b[39;49merrors)\n\u001b[0;32m   4713\u001b[0m \u001b[39mif\u001b[39;00m inplace:\n\u001b[0;32m   4714\u001b[0m     \u001b[39mself\u001b[39m\u001b[39m.\u001b[39m_update_inplace(obj)\n",
      "File \u001b[1;32mc:\\Users\\nouro\\AppData\\Local\\Programs\\Python\\Python39\\lib\\site-packages\\pandas\\core\\generic.py:4753\u001b[0m, in \u001b[0;36mNDFrame._drop_axis\u001b[1;34m(self, labels, axis, level, errors, only_slice)\u001b[0m\n\u001b[0;32m   4751\u001b[0m         new_axis \u001b[39m=\u001b[39m axis\u001b[39m.\u001b[39mdrop(labels, level\u001b[39m=\u001b[39mlevel, errors\u001b[39m=\u001b[39merrors)\n\u001b[0;32m   4752\u001b[0m     \u001b[39melse\u001b[39;00m:\n\u001b[1;32m-> 4753\u001b[0m         new_axis \u001b[39m=\u001b[39m axis\u001b[39m.\u001b[39;49mdrop(labels, errors\u001b[39m=\u001b[39;49merrors)\n\u001b[0;32m   4754\u001b[0m     indexer \u001b[39m=\u001b[39m axis\u001b[39m.\u001b[39mget_indexer(new_axis)\n\u001b[0;32m   4756\u001b[0m \u001b[39m# Case for non-unique axis\u001b[39;00m\n\u001b[0;32m   4757\u001b[0m \u001b[39melse\u001b[39;00m:\n",
      "File \u001b[1;32mc:\\Users\\nouro\\AppData\\Local\\Programs\\Python\\Python39\\lib\\site-packages\\pandas\\core\\indexes\\base.py:6992\u001b[0m, in \u001b[0;36mIndex.drop\u001b[1;34m(self, labels, errors)\u001b[0m\n\u001b[0;32m   6990\u001b[0m \u001b[39mif\u001b[39;00m mask\u001b[39m.\u001b[39many():\n\u001b[0;32m   6991\u001b[0m     \u001b[39mif\u001b[39;00m errors \u001b[39m!=\u001b[39m \u001b[39m\"\u001b[39m\u001b[39mignore\u001b[39m\u001b[39m\"\u001b[39m:\n\u001b[1;32m-> 6992\u001b[0m         \u001b[39mraise\u001b[39;00m \u001b[39mKeyError\u001b[39;00m(\u001b[39mf\u001b[39m\u001b[39m\"\u001b[39m\u001b[39m{\u001b[39;00mlabels[mask]\u001b[39m.\u001b[39mtolist()\u001b[39m}\u001b[39;00m\u001b[39m not found in axis\u001b[39m\u001b[39m\"\u001b[39m)\n\u001b[0;32m   6993\u001b[0m     indexer \u001b[39m=\u001b[39m indexer[\u001b[39m~\u001b[39mmask]\n\u001b[0;32m   6994\u001b[0m \u001b[39mreturn\u001b[39;00m \u001b[39mself\u001b[39m\u001b[39m.\u001b[39mdelete(indexer)\n",
      "\u001b[1;31mKeyError\u001b[0m: \"['ReqMemory', 'UsedNetwork', 'ReqNetwork', 'UsedLocalDiskSpace', 'ReqLocalDiskSpace', 'UsedResources', 'ReqResources'] not found in axis\""
     ]
    }
   ],
   "source": [
    "# delete the columns that are not needed : ReqMemory, UsedNetwork, ReqNetwork, UsedLocalDiskSpace, ReqLocalDiskSpace, UsedResources, ReqResources\n",
    "dataset = dataset.drop(columns=['ReqMemory', 'UsedNetwork', 'ReqNetwork', 'UsedLocalDiskSpace', 'ReqLocalDiskSpace', 'UsedResources', 'ReqResources'])"
   ]
  },
  {
   "cell_type": "markdown",
   "metadata": {},
   "source": [
    "#### Distribution of job status"
   ]
  },
  {
   "cell_type": "code",
   "execution_count": 10,
   "metadata": {},
   "outputs": [
    {
     "data": {
      "image/png": "[encoded data removed]",
      "text/plain": [
       "<Figure size 640x480 with 1 Axes>"
      ]
     },
     "metadata": {},
     "output_type": "display_data"
    },
    {
     "name": "stdout",
     "output_type": "stream",
     "text": [
      "Number of completed jobs : 1123610 and the number of failes jobs : 1162 \n"
     ]
    }
   ],
   "source": [
    "# Job status\n",
    "status_counts = dataset['Status'].value_counts()\n",
    "status_counts.plot(kind='bar', rot=0)\n",
    "plt.title('Status of jobs')\n",
    "plt.xlabel('Status')\n",
    "plt.ylabel('Count')\n",
    "plt.xticks([0, 1], ['Completed', 'Failed'])\n",
    "plt.show()\n",
    "print(f\"Number of completed jobs : {status_counts[1]} and the number of failes jobs : {status_counts[0]} \")"
   ]
  },
  {
   "cell_type": "markdown",
   "metadata": {},
   "source": [
    "#### Other unimportant features"
   ]
  },
  {
   "cell_type": "markdown",
   "metadata": {},
   "source": []
  },
  {
   "cell_type": "code",
   "execution_count": 11,
   "metadata": {},
   "outputs": [
    {
     "name": "stdout",
     "output_type": "stream",
     "text": [
      "JobStructureParams\n",
      "-1          600484\n",
      "-1          418748\n",
      "fs336931      7000\n",
      "fs336936      6995\n",
      "fs336960      6000\n",
      "             ...  \n",
      "fs315384         1\n",
      "fs315385         1\n",
      "fs315380         1\n",
      "fs315377         1\n",
      "fs314769         1\n",
      "Name: count, Length: 1958, dtype: int64\n"
     ]
    }
   ],
   "source": [
    "print(dataset['JobStructureParams'].value_counts())"
   ]
  },
  {
   "cell_type": "code",
   "execution_count": 12,
   "metadata": {},
   "outputs": [
    {
     "name": "stdout",
     "output_type": "stream",
     "text": [
      "JobStructure\n",
      "UNITARY    1019232\n",
      "BoT         105540\n",
      "Name: count, dtype: int64\n"
     ]
    }
   ],
   "source": [
    "print(dataset['JobStructure'].value_counts())"
   ]
  },
  {
   "cell_type": "code",
   "execution_count": 13,
   "metadata": {},
   "outputs": [
    {
     "name": "stdout",
     "output_type": "stream",
     "text": [
      "QueueID\n",
      "Q0    1124272\n",
      "Q1        451\n",
      "Q2         49\n",
      "Name: count, dtype: int64\n"
     ]
    }
   ],
   "source": [
    "print(dataset['QueueID'].value_counts())"
   ]
  },
  {
   "cell_type": "markdown",
   "metadata": {},
   "source": [
    "We can notice that the OrigSiteID and LastRunSiteID have the same pieces of information, so we can delete one of them."
   ]
  },
  {
   "cell_type": "code",
   "execution_count": 14,
   "metadata": {},
   "outputs": [
    {
     "name": "stdout",
     "output_type": "stream",
     "text": [
      "OrigSiteID\n",
      "DAS2/fs0    536583\n",
      "DAS2/fs3    227809\n",
      "DAS2/fs2    139162\n",
      "DAS2/fs4    116977\n",
      "DAS2/fs1    104241\n",
      "Name: count, dtype: int64\n"
     ]
    }
   ],
   "source": [
    "print(dataset['OrigSiteID'].value_counts())"
   ]
  },
  {
   "cell_type": "code",
   "execution_count": 15,
   "metadata": {},
   "outputs": [
    {
     "name": "stdout",
     "output_type": "stream",
     "text": [
      "LastRunSiteID\n",
      "DAS2/fs0    536583\n",
      "DAS2/fs3    227809\n",
      "DAS2/fs2    139162\n",
      "DAS2/fs4    116977\n",
      "DAS2/fs1    104241\n",
      "Name: count, dtype: int64\n"
     ]
    }
   ],
   "source": [
    "print(dataset['LastRunSiteID'].value_counts())"
   ]
  },
  {
   "cell_type": "code",
   "execution_count": 16,
   "metadata": {},
   "outputs": [],
   "source": [
    "dataset = dataset.drop(columns=['LastRunSiteID'])"
   ]
  },
  {
   "cell_type": "markdown",
   "metadata": {},
   "source": [
    "Distribution of the number of jobs per user"
   ]
  },
  {
   "cell_type": "code",
   "execution_count": 25,
   "metadata": {},
   "outputs": [
    {
     "data": {
      "image/png": "[encoded data removed]",
      "text/plain": [
       "<Figure size 2000x500 with 1 Axes>"
      ]
     },
     "metadata": {},
     "output_type": "display_data"
    }
   ],
   "source": [
    "users = dataset[\"UserID\"].value_counts()[0:50]\n",
    "plt.figure(figsize=(20, 5))\n",
    "users.plot(kind='bar', rot=0)\n",
    "plt.title('Distribution of number of jobs per user')\n",
    "plt.xlabel('User ID')\n",
    "plt.ylabel('Count')\n",
    "plt.show()"
   ]
  },
  {
   "cell_type": "markdown",
   "metadata": {},
   "source": [
    "Contingency table of user ID and group ID"
   ]
  },
  {
   "cell_type": "code",
   "execution_count": 47,
   "metadata": {},
   "outputs": [
    {
     "name": "stdout",
     "output_type": "stream",
     "text": [
      "Users in Group G0: U0, U10, U101, U108, U11, U110, U115, U117, U118, U12, U124, U128, U13, U140, U145, U15, U16, U178, U186, U187, U19, U2, U25, U252, U278, U29, U313, U4, U53, U7, U72, U80, U9, U96, U99\n",
      "Users in Group G1: U1, U106, U109, U112, U120, U137, U169, U224, U228, U24, U243, U244, U260, U268, U280, U65, U84, U86, U91, U98\n",
      "Users in Group G10: U173\n",
      "Users in Group G11: U291\n",
      "Users in Group G2: U3\n",
      "Users in Group G3: U104, U105, U107, U111, U113, U119, U127, U130, U138, U139, U146, U163, U17, U171, U172, U174, U175, U176, U177, U179, U18, U180, U181, U188, U191, U193, U195, U196, U197, U198, U199, U20, U200, U201, U202, U203, U204, U205, U206, U207, U208, U209, U210, U211, U212, U213, U214, U215, U216, U217, U218, U219, U220, U222, U223, U227, U229, U230, U231, U232, U233, U234, U235, U236, U237, U238, U239, U241, U247, U26, U262, U265, U27, U272, U276, U279, U28, U297, U298, U299, U30, U300, U301, U302, U303, U304, U305, U306, U307, U308, U309, U31, U310, U311, U312, U314, U315, U316, U317, U318, U319, U32, U320, U321, U322, U323, U324, U325, U326, U327, U328, U329, U33, U330, U331, U34, U35, U36, U37, U39, U40, U41, U42, U43, U44, U46, U47, U48, U49, U5, U50, U51, U52, U54, U55, U56, U57, U59, U61, U63, U66, U67, U68, U70, U71, U74, U75, U79, U82, U93, U97\n",
      "Users in Group G4: U116, U164, U170, U194, U221, U225, U240, U269, U271, U274, U275, U277, U281, U282, U283, U284, U285, U286, U287, U288, U289, U290, U292, U293, U294, U295, U296, U38, U58, U6, U60, U64, U69, U78, U8, U83, U94\n",
      "Users in Group G5: U14, U23, U266, U267, U270, U273\n",
      "Users in Group G6: U103, U105, U121, U122, U123, U125, U126, U129, U131, U132, U133, U134, U135, U136, U141, U142, U143, U144, U147, U148, U149, U150, U151, U152, U153, U154, U155, U156, U157, U158, U159, U160, U161, U162, U165, U166, U167, U168, U182, U183, U184, U185, U189, U190, U192, U21, U22, U226, U242, U245, U246, U248, U249, U250, U251, U253, U254, U255, U256, U257, U258, U259, U261, U263, U264, U45, U73, U76, U77, U85, U87, U88, U89, U90, U92, U95, U96\n",
      "Users in Group G7: U100, U147, U62\n",
      "Users in Group G8: U102, U81\n",
      "Users in Group G9: U114, U332\n"
     ]
    }
   ],
   "source": [
    "contingency_table = pd.crosstab(dataset['UserID'], dataset['GroupID'])#, dataset[\"ExecutableID\"], dataset[\"QueueID\"], dataset[\"OrigSiteID\"])\\\n",
    "group_users = {}\n",
    "for group_id in contingency_table.columns:\n",
    "    users_in_group = contingency_table[group_id][contingency_table[group_id] > 0].index.tolist()\n",
    "    group_users[group_id] = users_in_group\n",
    "\n",
    "# Print the result\n",
    "for group_id, users in group_users.items():\n",
    "    print(f\"Users in Group {group_id}: {', '.join(users)}\")"
   ]
  },
  {
   "cell_type": "code",
   "execution_count": null,
   "metadata": {},
   "outputs": [],
   "source": []
  }
 ],
 "metadata": {
  "kernelspec": {
   "display_name": "Python 3",
   "language": "python",
   "name": "python3"
  },
  "language_info": {
   "codemirror_mode": {
    "name": "ipython",
    "version": 3
   },
   "file_extension": ".py",
   "mimetype": "text/x-python",
   "name": "python",
   "nbconvert_exporter": "python",
   "pygments_lexer": "ipython3",
   "version": "3.9.2rc1"
  }
 },
 "nbformat": 4,
 "nbformat_minor": 2
}
